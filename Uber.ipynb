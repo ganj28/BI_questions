{
 "cells": [
  {
   "cell_type": "code",
   "execution_count": 268,
   "metadata": {},
   "outputs": [],
   "source": [
    "import pandas as pd\n",
    "import seaborn as sns\n",
    "import matplotlib.pyplot as plt\n",
    "%matplotlib inline\n",
    "sns.set_style(\"whitegrid\")\n",
    "import numpy as np\n",
    "from scipy.interpolate import UnivariateSpline\n",
    "from statsmodels.tsa.arima_model import ARIMA\n",
    "from fbprophet import Prophet"
   ]
  },
  {
   "cell_type": "code",
   "execution_count": 269,
   "metadata": {},
   "outputs": [],
   "source": [
    "data = pd.read_csv('../Downloads/BI_Analyst_Exercise_V1_DataSet.csv', thousands=',')"
   ]
  },
  {
   "cell_type": "code",
   "execution_count": 270,
   "metadata": {},
   "outputs": [
    {
     "name": "stdout",
     "output_type": "stream",
     "text": [
      "<class 'pandas.core.frame.DataFrame'>\n",
      "RangeIndex: 7911 entries, 0 to 7910\n",
      "Data columns (total 6 columns):\n",
      "Month_Ending          7911 non-null object\n",
      "Segment               7911 non-null object\n",
      "City                  7907 non-null object\n",
      "Product               7911 non-null object\n",
      "Miles                 7911 non-null int64\n",
      "Reported_Accidents    7911 non-null int64\n",
      "dtypes: int64(2), object(4)\n",
      "memory usage: 370.9+ KB\n"
     ]
    }
   ],
   "source": [
    "data.info()\n"
   ]
  },
  {
   "cell_type": "code",
   "execution_count": 271,
   "metadata": {},
   "outputs": [
    {
     "data": {
      "text/plain": [
       "Month_Ending          0\n",
       "Segment               0\n",
       "City                  4\n",
       "Product               0\n",
       "Miles                 0\n",
       "Reported_Accidents    0\n",
       "dtype: int64"
      ]
     },
     "execution_count": 271,
     "metadata": {},
     "output_type": "execute_result"
    }
   ],
   "source": [
    "#Check for null values in the data before analysis. Looks like there are 4 rows with no reported city.\n",
    "data.isnull().sum()"
   ]
  },
  {
   "cell_type": "code",
   "execution_count": 272,
   "metadata": {},
   "outputs": [
    {
     "data": {
      "text/html": [
       "<div>\n",
       "<style>\n",
       "    .dataframe thead tr:only-child th {\n",
       "        text-align: right;\n",
       "    }\n",
       "\n",
       "    .dataframe thead th {\n",
       "        text-align: left;\n",
       "    }\n",
       "\n",
       "    .dataframe tbody tr th {\n",
       "        vertical-align: top;\n",
       "    }\n",
       "</style>\n",
       "<table border=\"1\" class=\"dataframe\">\n",
       "  <thead>\n",
       "    <tr style=\"text-align: right;\">\n",
       "      <th></th>\n",
       "      <th>Month_Ending</th>\n",
       "      <th>Segment</th>\n",
       "      <th>City</th>\n",
       "      <th>Product</th>\n",
       "      <th>Miles</th>\n",
       "      <th>Reported_Accidents</th>\n",
       "    </tr>\n",
       "  </thead>\n",
       "  <tbody>\n",
       "    <tr>\n",
       "      <th>2812</th>\n",
       "      <td>4/30/16</td>\n",
       "      <td>Segment C</td>\n",
       "      <td>NaN</td>\n",
       "      <td>Product 7</td>\n",
       "      <td>1</td>\n",
       "      <td>0</td>\n",
       "    </tr>\n",
       "    <tr>\n",
       "      <th>3198</th>\n",
       "      <td>5/31/16</td>\n",
       "      <td>Segment C</td>\n",
       "      <td>NaN</td>\n",
       "      <td>Product 7</td>\n",
       "      <td>2</td>\n",
       "      <td>0</td>\n",
       "    </tr>\n",
       "    <tr>\n",
       "      <th>3459</th>\n",
       "      <td>6/30/16</td>\n",
       "      <td>Segment C</td>\n",
       "      <td>NaN</td>\n",
       "      <td>Product 7</td>\n",
       "      <td>11</td>\n",
       "      <td>0</td>\n",
       "    </tr>\n",
       "    <tr>\n",
       "      <th>4577</th>\n",
       "      <td>7/31/16</td>\n",
       "      <td>Segment C</td>\n",
       "      <td>NaN</td>\n",
       "      <td>Product 7</td>\n",
       "      <td>12</td>\n",
       "      <td>0</td>\n",
       "    </tr>\n",
       "  </tbody>\n",
       "</table>\n",
       "</div>"
      ],
      "text/plain": [
       "     Month_Ending    Segment City    Product  Miles  Reported_Accidents\n",
       "2812      4/30/16  Segment C  NaN  Product 7      1                   0\n",
       "3198      5/31/16  Segment C  NaN  Product 7      2                   0\n",
       "3459      6/30/16  Segment C  NaN  Product 7     11                   0\n",
       "4577      7/31/16  Segment C  NaN  Product 7     12                   0"
      ]
     },
     "execution_count": 272,
     "metadata": {},
     "output_type": "execute_result"
    }
   ],
   "source": [
    "#let's examine those rows\n",
    "data[data['City'].isnull()]"
   ]
  },
  {
   "cell_type": "code",
   "execution_count": 273,
   "metadata": {},
   "outputs": [],
   "source": [
    "#Since there are only 4 rows and all of the have not reported accidents, I belive it is safe to drop these rows\n",
    "#Let's clean up our dataset by first removing these rows\n",
    "data = data.dropna()"
   ]
  },
  {
   "cell_type": "code",
   "execution_count": 274,
   "metadata": {},
   "outputs": [
    {
     "data": {
      "text/plain": [
       "Month_Ending          0\n",
       "Segment               0\n",
       "City                  0\n",
       "Product               0\n",
       "Miles                 0\n",
       "Reported_Accidents    0\n",
       "dtype: int64"
      ]
     },
     "execution_count": 274,
     "metadata": {},
     "output_type": "execute_result"
    }
   ],
   "source": [
    "data.isnull().sum()"
   ]
  },
  {
   "cell_type": "code",
   "execution_count": 275,
   "metadata": {},
   "outputs": [
    {
     "name": "stdout",
     "output_type": "stream",
     "text": [
      "<class 'pandas.core.frame.DataFrame'>\n",
      "Int64Index: 7907 entries, 0 to 7910\n",
      "Data columns (total 6 columns):\n",
      "Month_Ending          7907 non-null datetime64[ns]\n",
      "Segment               7907 non-null object\n",
      "City                  7907 non-null object\n",
      "Product               7907 non-null object\n",
      "Miles                 7907 non-null int64\n",
      "Reported_Accidents    7907 non-null int64\n",
      "dtypes: datetime64[ns](1), int64(2), object(3)\n",
      "memory usage: 432.4+ KB\n"
     ]
    }
   ],
   "source": [
    "#converting MOnth_Ending to DateTime object\n",
    "data['Month_Ending'] = pd.to_datetime(data['Month_Ending'])\n",
    "data.info()"
   ]
  },
  {
   "cell_type": "code",
   "execution_count": 276,
   "metadata": {},
   "outputs": [],
   "source": [
    "#Let's start with Segment Wise \n",
    "s = data.groupby('Segment')['Reported_Accidents'].sum().reset_index()\n"
   ]
  },
  {
   "cell_type": "code",
   "execution_count": 277,
   "metadata": {},
   "outputs": [
    {
     "data": {
      "text/plain": [
       "<matplotlib.axes._subplots.AxesSubplot at 0x1c205fae10>"
      ]
     },
     "execution_count": 277,
     "metadata": {},
     "output_type": "execute_result"
    },
    {
     "data": {
      "image/png": "[encoded data removed]",
      "text/plain": [
       "<matplotlib.figure.Figure at 0x1c2062cf10>"
      ]
     },
     "metadata": {},
     "output_type": "display_data"
    }
   ],
   "source": [
    "f, (ax1) = plt.subplots(nrows=1,ncols=1, figsize=(18,5))\n",
    "sns.barplot(x='Segment', y='Reported_Accidents', data=s , palette='Set2', ax=ax1)\n"
   ]
  },
  {
   "cell_type": "markdown",
   "metadata": {},
   "source": [
    "Looks lIke Segment D has the highest number of reported Accidents followed closely by Segment A"
   ]
  },
  {
   "cell_type": "code",
   "execution_count": 278,
   "metadata": {},
   "outputs": [
    {
     "data": {
      "text/plain": [
       "<matplotlib.axes._subplots.AxesSubplot at 0x1c204c3b10>"
      ]
     },
     "execution_count": 278,
     "metadata": {},
     "output_type": "execute_result"
    },
    {
     "data": {
      "image/png": "[encoded data removed]",
      "text/plain": [
       "<matplotlib.figure.Figure at 0x1a1c266ad0>"
      ]
     },
     "metadata": {},
     "output_type": "display_data"
    }
   ],
   "source": [
    "#Let's find out the top 10 cities with maximum number of reported accidents\n",
    "c = data.groupby('City')['Reported_Accidents'].sum().reset_index()\n",
    "c = c.sort_values('Reported_Accidents', ascending=False)\n",
    "c[:10]\n",
    "f, (ax1) = plt.subplots(nrows=1,ncols=1, figsize=(18,5))\n",
    "sns.barplot(y='City', x='Reported_Accidents', data=c[:10] , palette='Set2', ax=ax1)"
   ]
  },
  {
   "cell_type": "markdown",
   "metadata": {},
   "source": [
    "City 2 Has reported the highest number of accidents compared to any other city!!!"
   ]
  },
  {
   "cell_type": "code",
   "execution_count": 436,
   "metadata": {
    "scrolled": true
   },
   "outputs": [
    {
     "data": {
      "text/plain": [
       "Text(0.5,1,u'Accident_rate per month')"
      ]
     },
     "execution_count": 436,
     "metadata": {},
     "output_type": "execute_result"
    },
    {
     "data": {
      "image/png": "[encoded data removed]",
      "text/plain": [
       "<matplotlib.figure.Figure at 0x1a1d95cb50>"
      ]
     },
     "metadata": {},
     "output_type": "display_data"
    }
   ],
   "source": [
    "#Let's do some processing to forecast the accident rate in Jan 2017, \n",
    "#Here I am trying to aggregate the acc_rate for everymonth and then I will extrapolate the results\n",
    "\n",
    "def acc_rate_month(data):\n",
    "    return data['Reported_Accidents']/ data['Miles'] * 1000000\n",
    "time = data.groupby('Month_Ending')[['Reported_Accidents', 'Miles']].sum().reset_index()\n",
    "time =time.rename(columns={'Month_Ending':'Month'})\n",
    "data2 = time.set_index('Month')\n",
    "data2['Accident_rate_monthly'] = data2['Reported_Accidents']/ data2['Miles'] * 1000000\n",
    "data2.drop(['Reported_Accidents','Miles'], axis=1,inplace=True)\n",
    "plt.figure(figsize=(10,5))\n",
    "plt.plot(data2, marker='o',)\n",
    "plt.ylabel('Month')\n",
    "plt.title('Accident_rate per month')"
   ]
  },
  {
   "cell_type": "markdown",
   "metadata": {},
   "source": [
    "The above plot shows the trend of acc rate over the months from the data"
   ]
  },
  {
   "cell_type": "code",
   "execution_count": 423,
   "metadata": {},
   "outputs": [
    {
     "name": "stderr",
     "output_type": "stream",
     "text": [
      "INFO:fbprophet.forecaster:Disabling yearly seasonality. Run prophet with yearly_seasonality=True to override this.\n",
      "INFO:fbprophet.forecaster:Disabling weekly seasonality. Run prophet with weekly_seasonality=True to override this.\n",
      "INFO:fbprophet.forecaster:Disabling daily seasonality. Run prophet with daily_seasonality=True to override this.\n",
      "INFO:fbprophet.forecaster:n_changepoints greater than number of observations.Using 11.0.\n"
     ]
    }
   ],
   "source": [
    "#Building a prophet model to perform Time series analysis and forecasting\n",
    "\n",
    "model = Prophet()\n",
    "data2 = data2.reset_index()\n",
    "data2 = data2.rename(columns={'Month':'ds','Accident_rate_monthly':'y'})\n",
    "model.fit(data2);"
   ]
  },
  {
   "cell_type": "code",
   "execution_count": 427,
   "metadata": {
    "scrolled": true
   },
   "outputs": [
    {
     "data": {
      "text/html": [
       "<div>\n",
       "<style>\n",
       "    .dataframe thead tr:only-child th {\n",
       "        text-align: right;\n",
       "    }\n",
       "\n",
       "    .dataframe thead th {\n",
       "        text-align: left;\n",
       "    }\n",
       "\n",
       "    .dataframe tbody tr th {\n",
       "        vertical-align: top;\n",
       "    }\n",
       "</style>\n",
       "<table border=\"1\" class=\"dataframe\">\n",
       "  <thead>\n",
       "    <tr style=\"text-align: right;\">\n",
       "      <th></th>\n",
       "      <th>ds</th>\n",
       "    </tr>\n",
       "  </thead>\n",
       "  <tbody>\n",
       "    <tr>\n",
       "      <th>13</th>\n",
       "      <td>2016-10-31</td>\n",
       "    </tr>\n",
       "    <tr>\n",
       "      <th>14</th>\n",
       "      <td>2016-11-30</td>\n",
       "    </tr>\n",
       "    <tr>\n",
       "      <th>15</th>\n",
       "      <td>2016-12-31</td>\n",
       "    </tr>\n",
       "    <tr>\n",
       "      <th>16</th>\n",
       "      <td>2017-01-01</td>\n",
       "    </tr>\n",
       "    <tr>\n",
       "      <th>17</th>\n",
       "      <td>2017-02-01</td>\n",
       "    </tr>\n",
       "  </tbody>\n",
       "</table>\n",
       "</div>"
      ],
      "text/plain": [
       "           ds\n",
       "13 2016-10-31\n",
       "14 2016-11-30\n",
       "15 2016-12-31\n",
       "16 2017-01-01\n",
       "17 2017-02-01"
      ]
     },
     "execution_count": 427,
     "metadata": {},
     "output_type": "execute_result"
    }
   ],
   "source": [
    "future_dates = model.make_future_dataframe(periods=2, freq='MS')\n",
    "future_dates.tail()"
   ]
  },
  {
   "cell_type": "code",
   "execution_count": 428,
   "metadata": {
    "scrolled": true
   },
   "outputs": [
    {
     "data": {
      "text/html": [
       "<div>\n",
       "<style>\n",
       "    .dataframe thead tr:only-child th {\n",
       "        text-align: right;\n",
       "    }\n",
       "\n",
       "    .dataframe thead th {\n",
       "        text-align: left;\n",
       "    }\n",
       "\n",
       "    .dataframe tbody tr th {\n",
       "        vertical-align: top;\n",
       "    }\n",
       "</style>\n",
       "<table border=\"1\" class=\"dataframe\">\n",
       "  <thead>\n",
       "    <tr style=\"text-align: right;\">\n",
       "      <th></th>\n",
       "      <th>ds</th>\n",
       "      <th>yhat</th>\n",
       "      <th>yhat_lower</th>\n",
       "      <th>yhat_upper</th>\n",
       "    </tr>\n",
       "  </thead>\n",
       "  <tbody>\n",
       "    <tr>\n",
       "      <th>13</th>\n",
       "      <td>2016-10-31</td>\n",
       "      <td>18.085297</td>\n",
       "      <td>10.810302</td>\n",
       "      <td>25.438901</td>\n",
       "    </tr>\n",
       "    <tr>\n",
       "      <th>14</th>\n",
       "      <td>2016-11-30</td>\n",
       "      <td>18.085998</td>\n",
       "      <td>10.341703</td>\n",
       "      <td>25.340762</td>\n",
       "    </tr>\n",
       "    <tr>\n",
       "      <th>15</th>\n",
       "      <td>2016-12-31</td>\n",
       "      <td>18.086723</td>\n",
       "      <td>10.254155</td>\n",
       "      <td>25.240306</td>\n",
       "    </tr>\n",
       "    <tr>\n",
       "      <th>16</th>\n",
       "      <td>2017-01-01</td>\n",
       "      <td>18.086747</td>\n",
       "      <td>10.401493</td>\n",
       "      <td>25.538446</td>\n",
       "    </tr>\n",
       "    <tr>\n",
       "      <th>17</th>\n",
       "      <td>2017-02-01</td>\n",
       "      <td>18.087472</td>\n",
       "      <td>10.403267</td>\n",
       "      <td>25.426805</td>\n",
       "    </tr>\n",
       "  </tbody>\n",
       "</table>\n",
       "</div>"
      ],
      "text/plain": [
       "           ds       yhat  yhat_lower  yhat_upper\n",
       "13 2016-10-31  18.085297   10.810302   25.438901\n",
       "14 2016-11-30  18.085998   10.341703   25.340762\n",
       "15 2016-12-31  18.086723   10.254155   25.240306\n",
       "16 2017-01-01  18.086747   10.401493   25.538446\n",
       "17 2017-02-01  18.087472   10.403267   25.426805"
      ]
     },
     "execution_count": 428,
     "metadata": {},
     "output_type": "execute_result"
    }
   ],
   "source": [
    "forecast = model.predict(future_dates)\n",
    "forecast[['ds', 'yhat', 'yhat_lower', 'yhat_upper']].tail()"
   ]
  },
  {
   "cell_type": "markdown",
   "metadata": {},
   "source": [
    "<Heading2> <B> From the above table it can be seen that the Accident rate in Jan 2017 would be about 18.08.</B> </Heading2>"
   ]
  },
  {
   "cell_type": "code",
   "execution_count": 437,
   "metadata": {
    "scrolled": true
   },
   "outputs": [
    {
     "data": {
      "image/png": "[encoded data removed]",
      "text/plain": [
       "<matplotlib.figure.Figure at 0x1c21209c10>"
      ]
     },
     "execution_count": 437,
     "metadata": {},
     "output_type": "execute_result"
    },
    {
     "data": {
      "image/png": "[encoded data removed]",
      "text/plain": [
       "<matplotlib.figure.Figure at 0x1c21209c10>"
      ]
     },
     "metadata": {},
     "output_type": "display_data"
    }
   ],
   "source": [
    "model.plot(forecast,\n",
    "              uncertainty=True)"
   ]
  },
  {
   "cell_type": "code",
   "execution_count": 438,
   "metadata": {},
   "outputs": [
    {
     "data": {
      "text/html": [
       "<div>\n",
       "<style>\n",
       "    .dataframe thead tr:only-child th {\n",
       "        text-align: right;\n",
       "    }\n",
       "\n",
       "    .dataframe thead th {\n",
       "        text-align: left;\n",
       "    }\n",
       "\n",
       "    .dataframe tbody tr th {\n",
       "        vertical-align: top;\n",
       "    }\n",
       "</style>\n",
       "<table border=\"1\" class=\"dataframe\">\n",
       "  <thead>\n",
       "    <tr style=\"text-align: right;\">\n",
       "      <th></th>\n",
       "      <th>Accident_rate_monthly</th>\n",
       "    </tr>\n",
       "    <tr>\n",
       "      <th>Month</th>\n",
       "      <th></th>\n",
       "    </tr>\n",
       "  </thead>\n",
       "  <tbody>\n",
       "    <tr>\n",
       "      <th>2015-09-30</th>\n",
       "      <td>17.012470</td>\n",
       "    </tr>\n",
       "    <tr>\n",
       "      <th>2015-10-31</th>\n",
       "      <td>40.381517</td>\n",
       "    </tr>\n",
       "    <tr>\n",
       "      <th>2015-11-30</th>\n",
       "      <td>14.699031</td>\n",
       "    </tr>\n",
       "    <tr>\n",
       "      <th>2015-12-31</th>\n",
       "      <td>15.715764</td>\n",
       "    </tr>\n",
       "    <tr>\n",
       "      <th>2016-01-31</th>\n",
       "      <td>16.281411</td>\n",
       "    </tr>\n",
       "    <tr>\n",
       "      <th>2016-02-29</th>\n",
       "      <td>16.238251</td>\n",
       "    </tr>\n",
       "    <tr>\n",
       "      <th>2016-03-31</th>\n",
       "      <td>14.842272</td>\n",
       "    </tr>\n",
       "    <tr>\n",
       "      <th>2016-04-30</th>\n",
       "      <td>16.934725</td>\n",
       "    </tr>\n",
       "    <tr>\n",
       "      <th>2016-05-31</th>\n",
       "      <td>16.066037</td>\n",
       "    </tr>\n",
       "    <tr>\n",
       "      <th>2016-06-30</th>\n",
       "      <td>16.984761</td>\n",
       "    </tr>\n",
       "    <tr>\n",
       "      <th>2016-07-31</th>\n",
       "      <td>16.278300</td>\n",
       "    </tr>\n",
       "    <tr>\n",
       "      <th>2016-08-31</th>\n",
       "      <td>16.114245</td>\n",
       "    </tr>\n",
       "    <tr>\n",
       "      <th>2016-09-30</th>\n",
       "      <td>16.793878</td>\n",
       "    </tr>\n",
       "    <tr>\n",
       "      <th>2016-10-31</th>\n",
       "      <td>16.964827</td>\n",
       "    </tr>\n",
       "    <tr>\n",
       "      <th>2016-11-30</th>\n",
       "      <td>18.639738</td>\n",
       "    </tr>\n",
       "    <tr>\n",
       "      <th>2016-12-31</th>\n",
       "      <td>17.601522</td>\n",
       "    </tr>\n",
       "  </tbody>\n",
       "</table>\n",
       "</div>"
      ],
      "text/plain": [
       "            Accident_rate_monthly\n",
       "Month                            \n",
       "2015-09-30              17.012470\n",
       "2015-10-31              40.381517\n",
       "2015-11-30              14.699031\n",
       "2015-12-31              15.715764\n",
       "2016-01-31              16.281411\n",
       "2016-02-29              16.238251\n",
       "2016-03-31              14.842272\n",
       "2016-04-30              16.934725\n",
       "2016-05-31              16.066037\n",
       "2016-06-30              16.984761\n",
       "2016-07-31              16.278300\n",
       "2016-08-31              16.114245\n",
       "2016-09-30              16.793878\n",
       "2016-10-31              16.964827\n",
       "2016-11-30              18.639738\n",
       "2016-12-31              17.601522"
      ]
     },
     "execution_count": 438,
     "metadata": {},
     "output_type": "execute_result"
    }
   ],
   "source": [
    "data2"
   ]
  },
  {
   "cell_type": "code",
   "execution_count": null,
   "metadata": {
    "collapsed": true
   },
   "outputs": [],
   "source": []
  }
 ],
 "metadata": {
  "kernelspec": {
   "display_name": "Python 2",
   "language": "python",
   "name": "python2"
  },
  "language_info": {
   "codemirror_mode": {
    "name": "ipython",
    "version": 2
   },
   "file_extension": ".py",
   "mimetype": "text/x-python",
   "name": "python",
   "nbconvert_exporter": "python",
   "pygments_lexer": "ipython2",
   "version": "2.7.14"
  }
 },
 "nbformat": 4,
 "nbformat_minor": 2
}
